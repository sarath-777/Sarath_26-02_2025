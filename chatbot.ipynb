{
  "cells": [
    {
      "cell_type": "markdown",
      "metadata": {
        "id": "view-in-github",
        "colab_type": "text"
      },
      "source": [
        "<a href=\"https://colab.research.google.com/github/sarath-777/Sarath_26-02_2025/blob/main/chatbot.ipynb\" target=\"_parent\"><img src=\"https://colab.research.google.com/assets/colab-badge.svg\" alt=\"Open In Colab\"/></a>"
      ]
    },
    {
      "cell_type": "code",
      "source": [
        "!pip install groq"
      ],
      "metadata": {
        "id": "ZqZH1r_EI5UN"
      },
      "execution_count": null,
      "outputs": []
    },
    {
      "cell_type": "code",
      "source": [
        "!pip install groq langchain==0.1.16 langchain-core langchain-groq"
      ],
      "metadata": {
        "id": "tDUBn8D5I5dk"
      },
      "execution_count": null,
      "outputs": []
    },
    {
      "cell_type": "code",
      "source": [
        "!pip install langchain-groq"
      ],
      "metadata": {
        "id": "lV-Xbpv6GLJJ"
      },
      "execution_count": null,
      "outputs": []
    },
    {
      "cell_type": "markdown",
      "source": [
        "THIS IS A CHAT BOT USING LLAMA AND LANGCHAIN"
      ],
      "metadata": {
        "id": "EPZv8h_3rQM4"
      }
    },
    {
      "cell_type": "code",
      "source": [
        "import os # For accessing environment variables\n",
        "\n",
        "from langchain.chains import LLMChain # Manages the chain of interactions with the LLM\n",
        "from langchain_core.prompts import (   # Used to define and structure chatbot prompts\n",
        "    ChatPromptTemplate,\n",
        "    HumanMessagePromptTemplate,\n",
        "    MessagesPlaceholder,\n",
        ")\n",
        "from langchain_core.messages import SystemMessage   # System-level instructions for the chatbot\n",
        "from langchain.chains.conversation.memory import ConversationBufferWindowMemory # Stores past conversation history\n",
        "from langchain_groq import ChatGroq # API client for interacting with Groq's models\n",
        "\n",
        "\n",
        "def main():\n",
        "    \"\"\"\n",
        "    This function is the main entry point of the application. It sets up the Groq client, the Streamlit interface, and handles the chat interaction.\n",
        "    \"\"\"\n",
        "\n",
        "    # Get Groq API key\n",
        "    from google.colab import userdata\n",
        "    groq_api_key=userdata.get('chatgpt')\n",
        "\n",
        "    model = 'llama3-8b-8192'\n",
        "    # Initialize Groq Langchain chat object and conversation,i.e, it creates a Groq client to interact with the LLM model.\n",
        "    groq_chat = ChatGroq(\n",
        "            groq_api_key=groq_api_key,\n",
        "            model_name=model\n",
        "    )\n",
        "\n",
        "    print(\"Hello! I'm your friendly Groq chatbot. I can help answer your questions, provide information, or just chat. I'm also super fast! Let's start our conversation!\")\n",
        "\n",
        "    system_prompt = 'You are a friendly conversational chatbot focused on web development'\n",
        "    conversational_memory_length = 5 # number of previous messages the chatbot will remember during the conversation\n",
        "\n",
        "    memory = ConversationBufferWindowMemory(k=conversational_memory_length, memory_key=\"chat_history\", return_messages=True) #The conversation history is stored as structured message objects\n",
        "\n",
        "\n",
        "    #chat_history = []\n",
        "    while True:\n",
        "        user_question = input(\"Ask a question: \")\n",
        "\n",
        "        # If the user has asked a question,\n",
        "        if user_question.lower() in [\"exit\", \"quit\", \"bye\"]:\n",
        "          print(\"Chat bot: Good bye..!\")\n",
        "          break\n",
        "        if user_question:\n",
        "\n",
        "            # Construct a chat prompt template using various components\n",
        "            #Purpose : It ensures that messages are formatted correctly before sending them to the LLM (Language Model).\n",
        "            prompt = ChatPromptTemplate.from_messages(\n",
        "                [\n",
        "                    SystemMessage(\n",
        "                        content=system_prompt\n",
        "                    ),  # This is the persistent system prompt that is always included at the start of the chat.\n",
        "\n",
        "                    MessagesPlaceholder(\n",
        "                        variable_name=\"chat_history\"\n",
        "                    ),  # This placeholder will be replaced by the actual chat history during the conversation. It helps in maintaining context.\n",
        "\n",
        "                    HumanMessagePromptTemplate.from_template(\n",
        "                        \"{human_input}\"\n",
        "                    ),  # This template is where the user's current input will be injected into the prompt.\n",
        "                ]\n",
        "            )\n",
        "\n",
        "            # Create a conversation chain using the LangChain LLM (Language Learning Model)\n",
        "            conversation = LLMChain(\n",
        "                llm=groq_chat,  # The Groq LangChain chat object initialized earlier.\n",
        "                prompt=prompt,  # The constructed prompt template.\n",
        "                verbose=False,   # TRUE Enables verbose output, which can be useful for debugging.\n",
        "                memory=memory,  # The conversational memory object that stores and manages the conversation history.\n",
        "            )\n",
        "            # The chatbot's answer is generated by sending the full prompt to the Groq API.\n",
        "            response = conversation.predict(human_input=user_question)\n",
        "            print(\"Chatbot:\", response)\n",
        "\n",
        "if __name__ == \"__main__\":\n",
        "    main()"
      ],
      "metadata": {
        "colab": {
          "base_uri": "https://localhost:8080/"
        },
        "id": "Nv13qcZ9ioFl",
        "outputId": "786b6faf-2391-4a70-f2b0-911688914274"
      },
      "execution_count": null,
      "outputs": [
        {
          "output_type": "stream",
          "name": "stdout",
          "text": [
            "Hello! I'm your friendly Groq chatbot. I can help answer your questions, provide information, or just chat. I'm also super fast! Let's start our conversation!\n",
            "Ask a question: hello\n",
            "Chatbot: Hello there! It's great to meet you! I'm a friendly conversational chatbot with a focus on web development. What brings you to this corner of the internet? Are you a fellow developer looking for some advice or guidance? Or perhaps you're just curious about the world of web development? Either way, I'm here to help and chat with you about all things web dev!\n",
            "Ask a question: okaay so what is html\n",
            "Chatbot: HTML (Hypertext Markup Language) is the standard markup language used to create web pages! It's the backbone of every website, and it's what makes the web pages look the way they do.\n",
            "\n",
            "HTML is used to define the structure and content of a webpage by using a series of elements, which are represented by tags. These tags are surrounded by angled brackets (<>) and usually come in pairs, with the opening tag preceding the content and the closing tag following the content.\n",
            "\n",
            "For example, the simplest HTML document would look something like this:\n",
            "```\n",
            "<html>\n",
            "  <head>\n",
            "    <title>My Webpage</title>\n",
            "  </head>\n",
            "  <body>\n",
            "    <h1>Welcome to My Webpage!</h1>\n",
            "  </body>\n",
            "</html>\n",
            "```\n",
            "In this example, the `<html>` tag is the root element of the document, and it contains two main sections: the `<head>` and the `<body>`. The `<head>` section contains metadata about the document, such as the title, while the `<body>` section contains the content of the webpage, in this case, a heading (`<h1>`).\n",
            "\n",
            "HTML is used to create a wide range of elements, including:\n",
            "\n",
            "* Headings (`<h1>`, `<h2>`, etc.)\n",
            "* Paragraphs (`<p>`)\n",
            "* Links (`<a>`)\n",
            "* Images (`<img>`)\n",
            "* Lists (`<ul>`, `<ol>`, `<li>`)\n",
            "* Forms (`<form>`, `<input>`, `<textarea>`, etc.)\n",
            "* Tables (`<table>`, `<tr>`, `<td>`, etc.)\n",
            "\n",
            "And many, many more!\n",
            "\n",
            "HTML is often used in conjunction with other technologies like CSS (Cascading Style Sheets) for styling and JavaScript for adding interactivity to web pages.\n",
            "\n",
            "Was that helpful? Do you have any specific questions about HTML?\n",
            "Ask a question: yes\n",
            "Chatbot: What would you like to know about HTML? Do you have a specific question or topic in mind?\n",
            "\n",
            "Here are some examples of HTML-related topics we could discuss:\n",
            "\n",
            "* HTML elements: What are the different types of HTML elements? How do they work?\n",
            "* HTML syntax: How do you write HTML code? What are the rules and best practices?\n",
            "* HTML attributes: What are HTML attributes? How do you use them to customize HTML elements?\n",
            "* HTML tags: What are the most common HTML tags? How do you use them to create different types of content?\n",
            "* HTML structure: How do you structure an HTML document? What are the main sections and elements?\n",
            "* HTML validation: What is HTML validation? How do you use it to ensure your HTML code is correct and error-free?\n",
            "* HTML and CSS: How do HTML and CSS work together to create a web page? What are some best practices for using HTML and CSS together?\n",
            "\n",
            "Let me know if any of these topics interest you, or if you have something else in mind!\n",
            "\n",
            "(By the way, feel free to ask me anything, and I'll do my best to help you out!\n",
            "Ask a question: bye\n",
            "Chat bot: Good bye..!\n"
          ]
        }
      ]
    }
  ],
  "metadata": {
    "colab": {
      "name": "Welcome To Colab",
      "provenance": [],
      "gpuType": "T4",
      "include_colab_link": true
    },
    "kernelspec": {
      "display_name": "Python 3",
      "name": "python3"
    },
    "accelerator": "GPU"
  },
  "nbformat": 4,
  "nbformat_minor": 0
}